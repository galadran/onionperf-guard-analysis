{
 "cells": [
  {
   "cell_type": "code",
   "execution_count": 2,
   "metadata": {},
   "outputs": [],
   "source": [
    "import csv\n",
    "from datetime import datetime\n",
    "import plotly.graph_objs as go\n",
    "from plotly.offline import iplot \n",
    "from IPython.display import Image, display\n",
    "import os"
   ]
  },
  {
   "cell_type": "code",
   "execution_count": 3,
   "metadata": {},
   "outputs": [
    {
     "name": "stdout",
     "output_type": "stream",
     "text": [
      "Example: OrderedDict([('date', '2020-05-11'), ('source', 'op-nl2'), ('quantile', '0.8'), ('timeout', '1500'), ('server', 'onion'), ('circlen', '3'), ('fp1', '8623F7E1'), ('fp2', '303509AB'), ('fpn', '47A83EC4'), ('cw1', '35500'), ('cw2', '64000'), ('cwn', '24300'), ('bt1', '80'), ('bt2', '90'), ('btn', '200'), ('start2req', '3000'), ('req2fb', '340')])\n"
     ]
    }
   ],
   "source": [
    "measurements = list()\n",
    "\n",
    "with open(\"data.csv\",\"r\") as f:\n",
    "    reader = csv.DictReader(f)\n",
    "    for row in reader:\n",
    "        if row['bt1'] is '':\n",
    "            continue\n",
    "        measurements.append(row)\n",
    "print(f\"Example: {measurements[0]}\")\n",
    "\n",
    "for m in measurements:\n",
    "    #print(f\"{m['bt1']}, {m['bt2']}, {m['btn']}\")\n",
    "    m['total_build'] = int(m['bt1']) +  int(m['bt2']) +  int(m['btn'])"
   ]
  },
  {
   "cell_type": "code",
   "execution_count": null,
   "metadata": {},
   "outputs": [],
   "source": [
    "#Do Some Histograms \n",
    "\n",
    "if not os.path.exists(\"images/histograms\"):\n",
    "    os.mkdir(\"images/histograms\")\n",
    "\n",
    "sources = ['op-nl2','op-hk2','op-us2']\n",
    "\n",
    "\n",
    "values = ['bt1','bt2','btn','start2req','req2fb']\n",
    "\n",
    "for k in values:\n",
    "    for s in sources:\n",
    "        server_measurements = [x for x in measurements if x['source'] == s]\n",
    "        x=[x[k] for x in server_measurements]\n",
    "\n",
    "        fig = go.Figure([go.Histogram(x=x,xbins=dict( # bins used for histogram\n",
    "            start=0,\n",
    "            end=2000,\n",
    "            size=20\n",
    "        ),)])\n",
    "        fig.update_layout(title_text=f\"{k},{s}\")\n",
    "        #fig.update_xaxes(range=[0,2000])\n",
    "        byt = fig.to_image(format=\"png\",width=1366,height=720)\n",
    "        fig.write_image(f\"images/histograms/{k}_{s}.png\",format=\"png\",width=1366,height=720)\n",
    "        display(Image(byt))"
   ]
  },
  {
   "cell_type": "code",
   "execution_count": null,
   "metadata": {},
   "outputs": [],
   "source": [
    "#scatter\n",
    "\n",
    "if not os.path.exists(\"images/scatter\"):\n",
    "    os.mkdir(\"images/scatter\")\n",
    "\n",
    "sources = ['op-nl2','op-hk2','op-us2']\n",
    "\n",
    "\n",
    "values = ['bt1','bt2','btn','start2req','req2fb','total_build']\n",
    "\n",
    "count = 0\n",
    "already_done = list()\n",
    "for k1 in values:\n",
    "    for k2 in values:\n",
    "        if set([k1,k2]) in already_done:\n",
    "            continue\n",
    "        else:\n",
    "            already_done.append(set([k1,k2]))\n",
    "        if k1 == k2:\n",
    "            continue\n",
    "        for s in sources:\n",
    "            count += 1\n",
    "            server_measurements = [x for x in measurements if x['source'] == s]\n",
    "            x=[int(x[k1]) for x in server_measurements]\n",
    "            y = [int(x[k2]) for x in server_measurements]\n",
    "            fig = go.Figure([go.Scatter(x=x,y=y,mode='markers')])\n",
    "            fig.update_layout(title_text=f\"x={k1} y={k2},{s}\")\n",
    "            fig.update_xaxes(range=[0,2000])\n",
    "            fig.update_yaxes(range=[0,2000])\n",
    "            byt = fig.to_image(format=\"png\",width=1366,height=720)\n",
    "            fig.write_image(f\"images/scatter/{k1}_{k2}_{s}.png\",format=\"png\",width=1366,height=720)\n",
    "            display(Image(byt))\n",
    "            \n",
    "print(f\"Created {count} scatter graphs\")"
   ]
  },
  {
   "cell_type": "code",
   "execution_count": 7,
   "metadata": {},
   "outputs": [
    {
     "name": "stdout",
     "output_type": "stream",
     "text": [
      "['op-nl2,public,start2req,req2fb', 0.6663782621968707, 2.6868548196778653e-185]\n",
      "['op-us2,public,start2req,req2fb', 0.6516485005115249, 1.0525342373486435e-174]\n",
      "['op-nl2,public,start2req,total_build', 0.6297887235661617, 9.566594941924085e-160]\n",
      "['op-hk2,public,start2req,req2fb', 0.6262807105324466, 1.0852934623475417e-157]\n",
      "['op-nl2,public,req2fb,total_build', 0.5314680670242597, 1.2453565991237815e-105]\n",
      "['op-nl2,onion,req2fb,total_build', 0.4868140884875895, 1.8633453097320157e-169]\n",
      "['op-hk2,public,start2req,total_build', 0.4421435991718628, 5.6614286865103334e-70]\n",
      "['op-us2,public,start2req,total_build', 0.43186586805012234, 1.8848111813174804e-66]\n",
      "['op-us2,public,req2fb,total_build', 0.4231599798026954, 1.3376773549044537e-63]\n",
      "['op-hk2,onion,req2fb,total_build', 0.36115525053999625, 4.067553694980775e-88]\n",
      "['op-hk2,public,req2fb,total_build', 0.35395772056800157, 9.411058775820757e-44]\n",
      "['op-us2,onion,req2fb,total_build', 0.3423980259990133, 3.3220407097459386e-79]\n",
      "['op-nl2,onion,start2req,req2fb', 0.3232570551972543, 2.7076809661873755e-70]\n",
      "['op-us2,onion,start2req,req2fb', 0.27044144121735336, 5.884857261921053e-49]\n",
      "['op-hk2,onion,start2req,req2fb', 0.22256596270882092, 3.634579279630801e-33]\n",
      "['op-nl2,onion,start2req,total_build', 0.20790575010475945, 3.4390340442427906e-29]\n",
      "['op-us2,onion,start2req,total_build', 0.18638791398671606, 1.079653358587215e-23]\n",
      "['op-hk2,onion,start2req,total_build', 0.13381509033834854, 8.351271151487472e-13]\n"
     ]
    }
   ],
   "source": [
    "#Check Correlations\n",
    "\n",
    "import scipy.stats\n",
    "import numpy as np\n",
    "\n",
    "sources = ['op-nl2','op-hk2','op-us2']\n",
    "\n",
    "circuits = ['public','onion']\n",
    "values = ['start2req','req2fb','total_build']\n",
    "\n",
    "already_done = list()\n",
    "results = list()\n",
    "for k1 in values:\n",
    "    for k2 in values:\n",
    "        if set([k1,k2]) in already_done:\n",
    "            continue\n",
    "        else:\n",
    "            already_done.append(set([k1,k2]))\n",
    "        if k1 == k2:\n",
    "            continue\n",
    "        for c in circuits:\n",
    "            for s in sources:\n",
    "                server_measurements = [x for x in measurements if x['source'] == s and x['server']==c]\n",
    "                x=[int(x[k1]) for x in server_measurements]\n",
    "                y = [int(x[k2]) for x in server_measurements]\n",
    "                r= scipy.stats.spearmanr(x, y)\n",
    "                results.append([f\"{s},{c},{k1},{k2}\",r[0],r[1]])\n",
    "\n",
    "results.sort(key=lambda x: -abs(x[1]))                           \n",
    "for r in results:\n",
    "    print(r)\n",
    "            "
   ]
  },
  {
   "cell_type": "code",
   "execution_count": null,
   "metadata": {},
   "outputs": [],
   "source": []
  }
 ],
 "metadata": {
  "kernelspec": {
   "display_name": "Python 3",
   "language": "python",
   "name": "python3"
  },
  "language_info": {
   "codemirror_mode": {
    "name": "ipython",
    "version": 3
   },
   "file_extension": ".py",
   "mimetype": "text/x-python",
   "name": "python",
   "nbconvert_exporter": "python",
   "pygments_lexer": "ipython3",
   "version": "3.6.9"
  }
 },
 "nbformat": 4,
 "nbformat_minor": 2
}
